{
 "cells": [
  {
   "cell_type": "markdown",
   "id": "3dcadf65",
   "metadata": {},
   "source": [
    "# LOOP"
   ]
  },
  {
   "cell_type": "code",
   "execution_count": 1,
   "id": "7f9dbf62",
   "metadata": {},
   "outputs": [],
   "source": [
    "x = 0"
   ]
  },
  {
   "cell_type": "markdown",
   "id": "585f7fd2",
   "metadata": {},
   "source": [
    "A while statement in python sets aside a block of code that is to be executed repeatedly until a condition is falsified. The structure of a while loop allows the total number of iterations, or repetitions, to be unknown from the start. "
   ]
  },
  {
   "cell_type": "code",
   "execution_count": 2,
   "id": "54b74675",
   "metadata": {},
   "outputs": [
    {
     "name": "stdout",
     "output_type": "stream",
     "text": [
      "0\n",
      "1\n",
      "2\n",
      "3\n",
      "4\n",
      "5\n",
      "6\n",
      "7\n",
      "8\n",
      "9\n"
     ]
    }
   ],
   "source": [
    "while x < 10 :\n",
    "    print (x)\n",
    "    x += 1"
   ]
  },
  {
   "cell_type": "markdown",
   "id": "f846be5a",
   "metadata": {},
   "source": [
    "A single while statement  , ; == to separate the statement"
   ]
  },
  {
   "cell_type": "code",
   "execution_count": 9,
   "id": "45a0b14b",
   "metadata": {},
   "outputs": [
    {
     "name": "stdout",
     "output_type": "stream",
     "text": [
      "0\n",
      "1\n",
      "2\n",
      "3\n",
      "4\n",
      "5\n",
      "6\n",
      "7\n",
      "8\n",
      "9\n"
     ]
    }
   ],
   "source": [
    "x= 0\n",
    "\n",
    "while x < 10 :print(x) ; x += 1"
   ]
  },
  {
   "cell_type": "markdown",
   "id": "bd84d657",
   "metadata": {},
   "source": [
    "Nested while -- in many cases we will write one loop inside one loop "
   ]
  },
  {
   "cell_type": "code",
   "execution_count": 13,
   "id": "d5d0ab19",
   "metadata": {},
   "outputs": [],
   "source": [
    "x = 0 \n"
   ]
  },
  {
   "cell_type": "code",
   "execution_count": null,
   "id": "e1f1772e",
   "metadata": {},
   "outputs": [],
   "source": [
    "while x < 6 : \n",
    "    y = 0 \n",
    "    while y < 10: \n",
    "        print (x,y)\n",
    "    y += 1\n",
    "x += 1"
   ]
  },
  {
   "cell_type": "code",
   "execution_count": 2,
   "id": "bf8bd38a",
   "metadata": {},
   "outputs": [
    {
     "name": "stdout",
     "output_type": "stream",
     "text": [
      "1\n",
      "2\n",
      "3\n",
      "4\n",
      "5\n",
      "6\n",
      "7\n"
     ]
    }
   ],
   "source": [
    "number = [1,2,3,4,5,6,7]\n",
    "\n",
    "for a in number:\n",
    "    print (a)"
   ]
  },
  {
   "cell_type": "code",
   "execution_count": 3,
   "id": "c376ba51",
   "metadata": {},
   "outputs": [
    {
     "name": "stdout",
     "output_type": "stream",
     "text": [
      "1\n",
      "2\n",
      "3\n",
      "4\n",
      "5\n",
      "6\n",
      "7\n"
     ]
    }
   ],
   "source": [
    "number = (1,2,3,4,5,6,7)\n",
    "\n",
    "for a in number:\n",
    "    print (a)"
   ]
  },
  {
   "cell_type": "markdown",
   "id": "0669d6ec",
   "metadata": {},
   "source": [
    "range(end,start=0,step=1)"
   ]
  },
  {
   "cell_type": "code",
   "execution_count": 5,
   "id": "d92db4f9",
   "metadata": {},
   "outputs": [
    {
     "data": {
      "text/plain": [
       "range(0, 10)"
      ]
     },
     "execution_count": 5,
     "metadata": {},
     "output_type": "execute_result"
    }
   ],
   "source": [
    "range(10)"
   ]
  },
  {
   "cell_type": "code",
   "execution_count": 18,
   "id": "b27e1684",
   "metadata": {},
   "outputs": [
    {
     "data": {
      "text/plain": [
       "[5, 6, 7, 8, 9]"
      ]
     },
     "execution_count": 18,
     "metadata": {},
     "output_type": "execute_result"
    }
   ],
   "source": [
    "list(range(5,10))"
   ]
  },
  {
   "cell_type": "code",
   "execution_count": 15,
   "id": "1728d75b",
   "metadata": {},
   "outputs": [
    {
     "data": {
      "text/plain": [
       "[10, 11, 12, 13, 14]"
      ]
     },
     "execution_count": 15,
     "metadata": {},
     "output_type": "execute_result"
    }
   ],
   "source": [
    "list(range(10,15,1))"
   ]
  },
  {
   "cell_type": "code",
   "execution_count": 19,
   "id": "366d21e3",
   "metadata": {},
   "outputs": [
    {
     "name": "stdout",
     "output_type": "stream",
     "text": [
      "1\n",
      "2\n",
      "3\n",
      "4\n",
      "5\n",
      "6\n"
     ]
    }
   ],
   "source": [
    "numbers = (1,2,3,4,5,6)\n",
    "\n",
    "for x in range(1,7):\n",
    "    print(x)"
   ]
  },
  {
   "cell_type": "code",
   "execution_count": 21,
   "id": "c689781a",
   "metadata": {},
   "outputs": [
    {
     "name": "stdout",
     "output_type": "stream",
     "text": [
      "p\n",
      "y\n",
      "t\n",
      "h\n",
      "o\n",
      "n\n"
     ]
    }
   ],
   "source": [
    "for letter in 'python':\n",
    "    print(letter)"
   ]
  },
  {
   "cell_type": "code",
   "execution_count": 23,
   "id": "ab2e7ad8",
   "metadata": {},
   "outputs": [
    {
     "name": "stdout",
     "output_type": "stream",
     "text": [
      "1 1\n",
      "1 2\n",
      "1 3\n",
      "1 4\n",
      "1 5\n",
      "1 6\n",
      "1 7\n",
      "1 8\n",
      "1 9\n",
      "2 1\n",
      "2 2\n",
      "2 3\n",
      "2 4\n",
      "2 5\n",
      "2 6\n",
      "2 7\n",
      "2 8\n",
      "2 9\n",
      "3 1\n",
      "3 2\n",
      "3 3\n",
      "3 4\n",
      "3 5\n",
      "3 6\n",
      "3 7\n",
      "3 8\n",
      "3 9\n",
      "4 1\n",
      "4 2\n",
      "4 3\n",
      "4 4\n",
      "4 5\n",
      "4 6\n",
      "4 7\n",
      "4 8\n",
      "4 9\n",
      "5 1\n",
      "5 2\n",
      "5 3\n",
      "5 4\n",
      "5 5\n",
      "5 6\n",
      "5 7\n",
      "5 8\n",
      "5 9\n"
     ]
    }
   ],
   "source": [
    "for x in range(1,6):\n",
    "    for y in range(1,10):\n",
    "        print(x,y)"
   ]
  },
  {
   "cell_type": "code",
   "execution_count": 25,
   "id": "64028ee7",
   "metadata": {},
   "outputs": [
    {
     "name": "stdout",
     "output_type": "stream",
     "text": [
      "1\n",
      "2\n",
      "3\n",
      "4\n",
      "6\n",
      "7\n",
      "8\n",
      "1\n",
      "2\n",
      "3\n"
     ]
    }
   ],
   "source": [
    "number = [[1,2,3],[4,6,7,8],[1,2,3]]\n",
    "for a in number:\n",
    "    for b in a:\n",
    "        print(b)"
   ]
  },
  {
   "cell_type": "markdown",
   "id": "6d07adfc",
   "metadata": {},
   "source": [
    "Break with For "
   ]
  },
  {
   "cell_type": "code",
   "execution_count": 27,
   "id": "4dffa70d",
   "metadata": {},
   "outputs": [
    {
     "name": "stdout",
     "output_type": "stream",
     "text": [
      "0\n",
      "1\n",
      "2\n",
      "3\n",
      "4\n"
     ]
    }
   ],
   "source": [
    "for x in range(10): # just stop the loop \n",
    "    if x == 5 :\n",
    "        break \n",
    "    print (x)\n",
    "    "
   ]
  },
  {
   "cell_type": "code",
   "execution_count": 29,
   "id": "88187321",
   "metadata": {},
   "outputs": [
    {
     "name": "stdout",
     "output_type": "stream",
     "text": [
      "0\n",
      "1\n",
      "2\n",
      "3\n",
      "4\n",
      "6\n",
      "7\n",
      "8\n",
      "9\n"
     ]
    }
   ],
   "source": [
    "for x in range(10): # continue Without 5 \n",
    "    if x == 5 :\n",
    "        continue \n",
    "    print (x)"
   ]
  },
  {
   "cell_type": "code",
   "execution_count": 36,
   "id": "ff63e16f",
   "metadata": {},
   "outputs": [
    {
     "name": "stdout",
     "output_type": "stream",
     "text": [
      "Number           square\n",
      "------------------------\n",
      "1 \t 1\n",
      "2 \t 4\n",
      "3 \t 9\n",
      "4 \t 16\n",
      "5 \t 25\n",
      "6 \t 36\n",
      "7 \t 49\n",
      "8 \t 64\n",
      "9 \t 81\n",
      "10 \t 100\n"
     ]
    }
   ],
   "source": [
    "print('Number           square')\n",
    "print('------------------------')\n",
    "\n",
    "\n",
    "\n",
    "for x in range(1,11):\n",
    "    print (x,'\\t',x*x)"
   ]
  },
  {
   "cell_type": "code",
   "execution_count": 45,
   "id": "5d3e5781",
   "metadata": {},
   "outputs": [
    {
     "name": "stdout",
     "output_type": "stream",
     "text": [
      "enter star : 1\n",
      "enter End11\n",
      "<class 'int'>\n",
      "Number \t saquer \n",
      "-----------------\n",
      "1 \t 1\n",
      "2 \t 4\n",
      "3 \t 9\n",
      "4 \t 16\n",
      "5 \t 25\n",
      "6 \t 36\n",
      "7 \t 49\n",
      "8 \t 64\n",
      "9 \t 81\n",
      "10 \t 100\n"
     ]
    }
   ],
   "source": [
    "start = int(input('enter star : '))\n",
    "\n",
    "end = int(input('enter End'))\n",
    "print(type(start))\n",
    "\n",
    "print ('Number \\t saquer ')\n",
    "print ('-----------------')\n",
    "for x in range(start,end):\n",
    "      print(x,'\\t',x*x)\n",
    "\n"
   ]
  },
  {
   "cell_type": "code",
   "execution_count": 50,
   "id": "f99e604d",
   "metadata": {},
   "outputs": [
    {
     "name": "stdout",
     "output_type": "stream",
     "text": [
      "enter star : 5\n",
      "enter Endx10\n",
      "**********\n",
      "**********\n",
      "**********\n",
      "**********\n",
      "**********\n"
     ]
    }
   ],
   "source": [
    "start = int(input('enter star : '))\n",
    "\n",
    "endx = int(input('enter Endx'))\n",
    "\n",
    "\n",
    "for x in range(start):\n",
    "    for y in range(endx):\n",
    "        print('*',end='')\n",
    "    print()"
   ]
  },
  {
   "cell_type": "code",
   "execution_count": 58,
   "id": "dd678ad6",
   "metadata": {},
   "outputs": [
    {
     "name": "stdout",
     "output_type": "stream",
     "text": [
      "*\n",
      "**\n",
      "***\n",
      "****\n",
      "*****\n",
      "******\n",
      "*******\n",
      "********\n"
     ]
    }
   ],
   "source": [
    "for x in range(1,9):\n",
    "    for y in range(x):\n",
    "        print('*',end='')\n",
    "    print()"
   ]
  },
  {
   "cell_type": "code",
   "execution_count": 61,
   "id": "e588d41a",
   "metadata": {},
   "outputs": [],
   "source": [
    "list = [1,2,3,4,6,78,0,9,8]"
   ]
  },
  {
   "cell_type": "code",
   "execution_count": 63,
   "id": "00ed10d8",
   "metadata": {},
   "outputs": [
    {
     "data": {
      "text/plain": [
       "[0, 1, 2, 3, 4, 6, 8, 9, 78]"
      ]
     },
     "execution_count": 63,
     "metadata": {},
     "output_type": "execute_result"
    }
   ],
   "source": [
    "list.sort()\n",
    "list"
   ]
  },
  {
   "cell_type": "code",
   "execution_count": 64,
   "id": "1f65e0e6",
   "metadata": {},
   "outputs": [
    {
     "data": {
      "text/plain": [
       "[78, 9, 8, 6, 4, 3, 2, 1, 0]"
      ]
     },
     "execution_count": 64,
     "metadata": {},
     "output_type": "execute_result"
    }
   ],
   "source": [
    "list.reverse()\n",
    "list"
   ]
  },
  {
   "cell_type": "code",
   "execution_count": 65,
   "id": "485314ba",
   "metadata": {},
   "outputs": [
    {
     "data": {
      "text/plain": [
       "[78, 9, 8, 6, 4, 3, 2, 1, 0]"
      ]
     },
     "execution_count": 65,
     "metadata": {},
     "output_type": "execute_result"
    }
   ],
   "source": [
    "list.sort(reverse=True)\n",
    "list"
   ]
  },
  {
   "cell_type": "code",
   "execution_count": 71,
   "id": "7b4620fb",
   "metadata": {},
   "outputs": [
    {
     "data": {
      "text/plain": [
       "[78, 9, 8, 6, 4, 100, 100, 3, 2, 1, 0, 100, 100, 100]"
      ]
     },
     "execution_count": 71,
     "metadata": {},
     "output_type": "execute_result"
    }
   ],
   "source": [
    "list.append(100)\n",
    "list"
   ]
  },
  {
   "cell_type": "code",
   "execution_count": 73,
   "id": "f5062d20",
   "metadata": {},
   "outputs": [
    {
     "data": {
      "text/plain": [
       "[78, 9, 8, 6, 4, 100, 100, 100, 100, 3, 2, 1, 0, 100, 100, 100]"
      ]
     },
     "execution_count": 73,
     "metadata": {},
     "output_type": "execute_result"
    }
   ],
   "source": [
    "list.insert(5,100)\n",
    "list"
   ]
  },
  {
   "cell_type": "code",
   "execution_count": 77,
   "id": "bd6ec2b0",
   "metadata": {},
   "outputs": [
    {
     "data": {
      "text/plain": [
       "[78, 8, 6, 4, 100, 100, 100, 100, 3, 1, 0, 100, 100, 100]"
      ]
     },
     "execution_count": 77,
     "metadata": {},
     "output_type": "execute_result"
    }
   ],
   "source": [
    "list.pop(9)\n",
    "list"
   ]
  },
  {
   "cell_type": "code",
   "execution_count": 79,
   "id": "a876e377",
   "metadata": {},
   "outputs": [
    {
     "data": {
      "text/plain": [
       "[]"
      ]
     },
     "execution_count": 79,
     "metadata": {},
     "output_type": "execute_result"
    }
   ],
   "source": [
    "list.clear()\n",
    "list"
   ]
  },
  {
   "cell_type": "code",
   "execution_count": 86,
   "id": "a85560ee",
   "metadata": {},
   "outputs": [
    {
     "data": {
      "text/plain": [
       "[100, 100, 6, 7, 100, 6, 7]"
      ]
     },
     "execution_count": 86,
     "metadata": {},
     "output_type": "execute_result"
    }
   ],
   "source": [
    "list.append(100)\n",
    "list.append(6)\n",
    "list.append(7)\n",
    "list"
   ]
  },
  {
   "cell_type": "code",
   "execution_count": 87,
   "id": "8a300eb2",
   "metadata": {},
   "outputs": [
    {
     "data": {
      "text/plain": [
       "100"
      ]
     },
     "execution_count": 87,
     "metadata": {},
     "output_type": "execute_result"
    }
   ],
   "source": [
    "list[0]"
   ]
  },
  {
   "cell_type": "code",
   "execution_count": 88,
   "id": "e0db8493",
   "metadata": {},
   "outputs": [
    {
     "data": {
      "text/plain": [
       "7"
      ]
     },
     "execution_count": 88,
     "metadata": {},
     "output_type": "execute_result"
    }
   ],
   "source": [
    "list[3]"
   ]
  },
  {
   "cell_type": "code",
   "execution_count": 90,
   "id": "44f3ccab",
   "metadata": {},
   "outputs": [
    {
     "data": {
      "text/plain": [
       "[100, 6]"
      ]
     },
     "execution_count": 90,
     "metadata": {},
     "output_type": "execute_result"
    }
   ],
   "source": [
    "list[1:3]"
   ]
  },
  {
   "cell_type": "code",
   "execution_count": 94,
   "id": "dd8b81d4",
   "metadata": {},
   "outputs": [
    {
     "ename": "NameError",
     "evalue": "name 'l' is not defined",
     "output_type": "error",
     "traceback": [
      "\u001b[0;31m---------------------------------------------------------------------------\u001b[0m",
      "\u001b[0;31mNameError\u001b[0m                                 Traceback (most recent call last)",
      "Input \u001b[0;32mIn [94]\u001b[0m, in \u001b[0;36m<cell line: 1>\u001b[0;34m()\u001b[0m\n\u001b[0;32m----> 1\u001b[0m e \u001b[38;5;241m=\u001b[39m \u001b[43ml\u001b[49m(\u001b[38;5;28mrange\u001b[39m(\u001b[38;5;241m10\u001b[39m,\u001b[38;5;241m101\u001b[39m,\u001b[38;5;241m10\u001b[39m))\n\u001b[1;32m      2\u001b[0m e\n",
      "\u001b[0;31mNameError\u001b[0m: name 'l' is not defined"
     ]
    }
   ],
   "source": [
    "e = list(range(10,101,10))\n",
    "e"
   ]
  },
  {
   "cell_type": "code",
   "execution_count": null,
   "id": "c9e06e15",
   "metadata": {},
   "outputs": [],
   "source": []
  }
 ],
 "metadata": {
  "kernelspec": {
   "display_name": "Python 3 (ipykernel)",
   "language": "python",
   "name": "python3"
  },
  "language_info": {
   "codemirror_mode": {
    "name": "ipython",
    "version": 3
   },
   "file_extension": ".py",
   "mimetype": "text/x-python",
   "name": "python",
   "nbconvert_exporter": "python",
   "pygments_lexer": "ipython3",
   "version": "3.9.12"
  }
 },
 "nbformat": 4,
 "nbformat_minor": 5
}
